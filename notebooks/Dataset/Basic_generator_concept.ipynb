{
 "cells": [
  {
   "cell_type": "code",
   "execution_count": 2,
   "metadata": {},
   "outputs": [
    {
     "name": "stdout",
     "output_type": "stream",
     "text": [
      "search for root_dir and set working directory\n",
      "Working directory set to: /mnt/ssd/git/coockiecutter-ds-mod/cmr-las-phase2phase-analysis\n"
     ]
    }
   ],
   "source": [
    "# define logging and working directory\n",
    "from ProjectRoot import change_wd_to_project_root\n",
    "change_wd_to_project_root()\n",
    "from src.utils.Notebook_imports import *\n",
    "import numpy as np"
   ]
  },
  {
   "cell_type": "markdown",
   "metadata": {},
   "source": [
    "# Test the main concepts of a DL generator\n",
    "\n",
    "A Generator yields a tuple of (x,y) and is used to feed data into a deep learning model\n",
    "\n",
    "Each tuple has the following shape: \n",
    "\n",
    "$(batchsize \\times inputObjects \\times inputShape)$ , $(batchsize \\times ioutputObjects \\times outputShape)$\n",
    "\n",
    "--> $inputShape$/$outputShape$ could be:\n",
    "- for 1D vector-data: $width$\n",
    "- for 2D images: $height \\times width$: \n",
    "- for 3D volumes: $depth \\times height \\times width$\n"
   ]
  },
  {
   "cell_type": "markdown",
   "metadata": {},
   "source": [
    "# First, create some fake data interactively\n",
    "\n",
    "Please define:\n",
    "\n",
    "- $examples$ - The total number of patients (the size of the dataset)\n",
    "- $inputObjects$ / $ouputObjects$ - This could be the timesteps of 4D CMR files or the number of 3D volumes/ different modalities (multi-input model)\n",
    "- $inputShape$ / $outputShape$ - could be 3/2 or 1D data, e.g.>: 𝑑𝑒𝑝𝑡ℎ∗ℎ𝑒𝑖𝑔ℎ𝑡∗𝑤𝑖𝑑𝑡ℎ.\n",
    "- $batchsize$ -  Which is the number of entities yielded in one step\n",
    "\n",
    "Usually the generator would save only the references to the corresponding files.\n",
    "In this example we create numpy arrays with the desired shape on the fly."
   ]
  },
  {
   "cell_type": "code",
   "execution_count": 72,
   "metadata": {
    "jupyter": {
     "source_hidden": true
    }
   },
   "outputs": [
    {
     "data": {
      "application/vnd.jupyter.widget-view+json": {
       "model_id": "7260db60d39d421cb81f6aaf829c7f5c",
       "version_major": 2,
       "version_minor": 0
      },
      "text/plain": [
       "interactive(children=(IntSlider(value=100, description='examples_', max=200, min=1), IntSlider(value=4, descri…"
      ]
     },
     "metadata": {},
     "output_type": "display_data"
    }
   ],
   "source": [
    "# Define the size of our fake data\n",
    "upper_example_limit = 200\n",
    "upper_example_size_limit = 8\n",
    "upper_batchsize_limit = 20\n",
    "\n",
    "@interact_manual\n",
    "def create_fake_data(examples_=(1,upper_example_limit), \n",
    "                     inObj=(1,upper_example_size_limit),\n",
    "                     outObj=(1,upper_example_size_limit),\n",
    "                     batchsize_=(1,upper_batchsize_limit), \n",
    "                     in_shape='(10,10,10)', \n",
    "                     out_shape='(10,10,10)'):\n",
    "    \n",
    "    global examples, input_objects, output_objects , batchsize, indexes, X, Y, x_dict, y_dict, batches\n",
    "    examples = examples_\n",
    "    batchsize = batchsize_\n",
    "    input_objects = inObj\n",
    "    output_objects = outObj\n",
    "    \n",
    "    # make sure the dimensions have the correct formating\n",
    "    # converts a string of int-tuple into a tuple of int '(10,10,10)' --> (10,10,10)\n",
    "    x_dim = tuple(map(int, in_shape.replace(')', '').replace('(','').split(',')))\n",
    "    y_dim = tuple(map(int, out_shape.replace(')', '').replace('(','').split(',')))\n",
    "    \n",
    "    # create some fake data\n",
    "    x_dict = {}\n",
    "    y_dict = {}  \n",
    "    for example in range(examples_):\n",
    "        # create example data (batchsize x input_objects x input_object_shape and batchsize output_objects x output_object_shape)\n",
    "        # squeeze unused dimensions\n",
    "        x_dict[example] = np.squeeze(np.stack([np.round(np.random.sample(x_dim),2)+example for i in range(input_objects)]))\n",
    "        y_dict[example] = np.squeeze(np.stack([np.round(np.random.sample(y_dim),2)+(10*example) for i in range(output_objects)]))\n",
    "        # testing purpose if lists are faster than dicts\n",
    "        #X.append(np.stack([np.round(np.random.sample(x_dim),2)+example for i in range(input_objects)]))\n",
    "    # index our data, we can use the indicies to select one example or a batch of examples from a list or dictionary\n",
    "    # By this we dont need to shuffle the data itself, we shuffle only the indexes\n",
    "    indexes = list(range(len(x_dict)))\n",
    "    batches = int(np.floor(examples/batchsize))-1\n",
    "    print('Shape of one batch X: {} * {}, Y: {} * {}'.format(batchsize, x_dict[0].shape, batchsize, y_dict[0].shape))"
   ]
  },
  {
   "cell_type": "markdown",
   "metadata": {},
   "source": [
    "# Select one batch and yield the corresponding values/shape \n",
    "\n",
    "$(batchsize \\times inputObjects \\times inputObjShape),(batchsize \\times outputObjects \\times outputObjShape)$"
   ]
  },
  {
   "cell_type": "code",
   "execution_count": 83,
   "metadata": {
    "collapsed": true,
    "jupyter": {
     "outputs_hidden": true,
     "source_hidden": true
    }
   },
   "outputs": [
    {
     "data": {
      "application/vnd.jupyter.widget-view+json": {
       "model_id": "026319972aec480d9e2be316558da49a",
       "version_major": 2,
       "version_minor": 0
      },
      "text/plain": [
       "interactive(children=(IntSlider(value=4, description='selected_batch', max=9), Checkbox(value=False, descripti…"
      ]
     },
     "metadata": {},
     "output_type": "display_data"
    }
   ],
   "source": [
    "@interact\n",
    "def select_batch(selected_batch = (0,batches), shuffle_indexes=False, debug=False):\n",
    "    global indexes\n",
    "    \n",
    "    if shuffle_indexes:\n",
    "        random.shuffle(indexes)\n",
    "    # make sure indexes are correctly initialised\n",
    "    assert len(indexes) == examples, print('len indexes: {}, number of examples: {}'.format(len(indexes), examples))\n",
    "    \n",
    "    # define the lower/upper index slicing borders of the current batch\n",
    "    start_idx = selected_batch*batchsize\n",
    "    end_idx = (selected_batch+1)*batchsize\n",
    "    \n",
    "    # we slice the indexes of the current batch from the index list\n",
    "    batch_indexes = indexes[start_idx: end_idx]\n",
    "    \n",
    "    # print the restrictions of the current batch\n",
    "    print('selected batch: {} of {} with a batchsize of {} and total {} examples'.format(selected_batch, batches, batchsize, examples))\n",
    "    print('start idx: {}, end idx: {}'.format(start_idx, end_idx))\n",
    "    print('Indexes of the currrent batch: {}'.format(batch_indexes))\n",
    "    print('-'*40)\n",
    "    \n",
    "    # stack the entities of the current batch\n",
    "    batch_x = np.stack([x_dict[k] for k in batch_indexes])\n",
    "    batch_y = np.stack([y_dict[k] for k in batch_indexes])\n",
    "    if debug:\n",
    "        [print('index: {}: value: {}'.format(k, x_dict[k])) for k in batch_indexes]\n",
    "        [print('index: {}: value: {}'.format(k, y_dict[k])) for k in batch_indexes]\n",
    "    \n",
    "    return([batch_x.shape, batch_y.shape])"
   ]
  },
  {
   "cell_type": "markdown",
   "metadata": {},
   "source": [
    "# Simple random generator, subclassed from tensorflow.keras.utils.Sequence"
   ]
  },
  {
   "cell_type": "code",
   "execution_count": 93,
   "metadata": {},
   "outputs": [],
   "source": [
    "import tensorflow, random\n",
    "from time import time\n",
    "import concurrent.futures\n",
    "from concurrent.futures import as_completed\n",
    "import logging\n",
    "from src.utils.Utils_io import ConsoleAndFileLogger\n",
    "\n",
    "class BaseGenerator(tensorflow.keras.utils.Sequence):\n",
    "    \"\"\"\n",
    "    Base generator class\n",
    "    \"\"\"\n",
    "\n",
    "    def __init__(self, x=None, y=None, config={}):\n",
    "        \"\"\"\n",
    "        Creates a base datagenerator for a list of nrrd images and a list of nrrd masks\n",
    "        :param x: list of nrrd image file names\n",
    "        :param y: list of nrrd mask file names\n",
    "        :param config:\n",
    "        \"\"\"\n",
    "        # Define standard parameters\n",
    "        # ###################################################################\n",
    "        logging.info('Create BaseDataGenerator')\n",
    "        assert len(x) == len(y)\n",
    "\n",
    "        self.EXAMPLES = len(x)\n",
    "        self.INPUTS = config.get('INPUTS', 1)\n",
    "        self.OUTPUTS = config.get('OUTPUTS', 1)\n",
    "        self.X_DIM = str(config.get('X_DIM', (256, 256)))\n",
    "        self.Y_DIM = str(config.get('Y_DIM', (256, 256)))\n",
    "        self.BATCHSIZE = config.get('BATCHSIZE', 32)\n",
    "        self.SHUFFLE = config.get('SHUFFLE', True)\n",
    "        \n",
    "        # create one worker per image & mask (batchsize) for parallel pre-processing if nothing else is defined\n",
    "        self.MAX_WORKERS = config.get('MAX_WORKERS', self.BATCHSIZE)\n",
    "        self.MAX_WORKERS = min(32, self.MAX_WORKERS)\n",
    "\n",
    "        # Make sure the dimensions have the correct formating\n",
    "        # converts a string of int-tuple into a tuple of int '(10,10,10)' --> (10,10,10), or 10 --> (10,)\n",
    "        self.X_DIM = tuple(map(int, self.X_DIM.replace(')', '').replace('(', '').split(',')))\n",
    "        self.Y_DIM = tuple(map(int, self.Y_DIM.replace(')', '').replace('(', '').split(',')))\n",
    "\n",
    "        # Create some static fake data\n",
    "        # #######################################################################\n",
    "        self.x_dict = {}\n",
    "        self.y_dict = {}\n",
    "        for example in range(self.EXAMPLES):\n",
    "            # create example data (batchsize x input_objects x input_object_shape and batchsize output_objects x output_object_shape)\n",
    "            # squeeze unused dimensions\n",
    "            self.x_dict[example] = np.squeeze(\n",
    "                np.stack([np.round(np.random.sample(self.X_DIM), 2) + example for i in range(self.INPUTS)]))\n",
    "            self.y_dict[example] = np.squeeze(\n",
    "                np.stack([np.round(np.random.sample(self.Y_DIM), 2) + (10 * example) for i in range(self.OUTPUTS)]))\n",
    "        # #######################################################################\n",
    "        # index our data, we can use the indicies to select one example or a batch of examples from a list or dictionary\n",
    "        # By this we dont need to shuffle the data itself, we shuffle only the indexes\n",
    "        \n",
    "        # We use these indicies to access and shuffle the data\n",
    "        # #######################################################################\n",
    "        self.INDICES = list(range(len(self.x_dict)))\n",
    "\n",
    "        print('Shape of one batch X: {} * {}, Y: {} * {}'.format(self.BATCHSIZE, self.x_dict[0].shape, self.BATCHSIZE,\n",
    "                                                                 self.y_dict[0].shape))\n",
    "        \n",
    "        self.X_SHAPE = np.empty((self.BATCHSIZE, *self.x_dict[0].shape), dtype=np.float32)\n",
    "        self.Y_SHAPE = np.empty((self.BATCHSIZE, *self.y_dict[0].shape), dtype=np.float32)\n",
    "\n",
    "    def __len__(self):\n",
    "\n",
    "        \"\"\"\n",
    "        Denotes the number of batches per epoch\n",
    "        :return: number of batches\n",
    "        \"\"\"\n",
    "        return int(np.floor(len(self.INDICES) / self.BATCHSIZE))\n",
    "\n",
    "    def __getitem__(self, index):\n",
    "\n",
    "        \"\"\"\n",
    "        Generate the indexes for one batch of data\n",
    "        This method allows to access the generator by pythonic slicing\n",
    "        gen = BaseGenerator(...)\n",
    "        x,y = gen[0]\n",
    "        :param index: int in the range of  {0: len(dataset)/Batchsize}\n",
    "        :return: pre-processed batch as x,y tuples\n",
    "        \"\"\"\n",
    "\n",
    "        t0 = time()\n",
    "        # collect n indices with n = Batchsize\n",
    "        # starting from the given index parameter\n",
    "        # which is in the range of  {0: len(dataset)/Batchsize}\n",
    "        idxs = self.INDICES[index * self.BATCHSIZE: (index + 1) * self.BATCHSIZE]\n",
    "\n",
    "        return self.__data_generation__(idxs)\n",
    "\n",
    "    def on_epoch_end(self):\n",
    "\n",
    "        \"\"\"\n",
    "        Shuffle the indexes after each epoch\n",
    "        :return: None\n",
    "        \"\"\"\n",
    "\n",
    "        if self.SHUFFLE:\n",
    "            np.random.shuffle(self.INDICES)\n",
    "\n",
    "    def __data_generation__(self, ids):\n",
    "\n",
    "        \"\"\"\n",
    "        Preprocess one batch, represented by the list of ids\n",
    "        Could pre-process each entity in parallel\n",
    "        returns the preprocessed batch\n",
    "\n",
    "        :param list_IDs_temp:\n",
    "        :return: X : (batchsize, *dim, n_channels), Y : (batchsize, *dim, number_of_classes)\n",
    "        \"\"\"\n",
    "\n",
    "        # Initialization\n",
    "\n",
    "        x = np.empty_like(self.X_SHAPE)\n",
    "        y = np.empty_like(self.Y_SHAPE)\n",
    "        logging.info('preprocess one batch with: {}, {}'.format(x.shape, y.shape))\n",
    "\n",
    "        futures = set()\n",
    "\n",
    "        # spawn one thread per worker\n",
    "        with concurrent.futures.ThreadPoolExecutor(max_workers=self.MAX_WORKERS) as executor:\n",
    "\n",
    "            t0 = time()\n",
    "            # Generate data\n",
    "            for i, ID in enumerate(ids):\n",
    "\n",
    "                try:\n",
    "                    # keep ordering of the shuffled indexes\n",
    "                    futures.add(executor.submit(self.__preprocess_one_image__, i, ID))\n",
    "\n",
    "                except Exception as e:\n",
    "                    logging.error(\n",
    "                        'Exception {} in datagenerator with: image: {} or mask: {}'.format(str(e), self.x_dict[ID],\n",
    "                                                                                           self.y_dict[ID]))\n",
    "        # This is out of the threadPool executor context\n",
    "        for i, future in enumerate(as_completed(futures)):\n",
    "            # use the index i to place each processed example in the batch\n",
    "            # otherwise slower images will always be at the end of the batch\n",
    "            # Use the ID for exception handling as reference to the file name\n",
    "            try:\n",
    "                x_, y_, i, ID, needed_time = future.result()\n",
    "                x[i,], y[i,] = x_, y_\n",
    "                logging.info('img finished after {:0.3f} sec.'.format(needed_time))\n",
    "            except Exception as e:\n",
    "                logging.error(\n",
    "                    'Exception {} in datagenerator with: image: {} or mask: {}'.format(str(e), self.x_dict[ID],\n",
    "                                                                                       self.y_dict[ID]))\n",
    "\n",
    "        logging.debug('Batchsize: {} preprocessing took: {:0.3f} sec'.format(self.BATCHSIZE, time() - t0))\n",
    "\n",
    "        return np.array(x.astype(np.float32)), np.array(y.astype(np.float32))\n",
    "\n",
    "    def __preprocess_one_image__(self, i, ID):\n",
    "        t0 = time()\n",
    "        import time as t\n",
    "        t.sleep(1) # testing purpose\n",
    "        # in this function we would load and preprocess the file self.x_dict[ID] and self.y_dict[ID]\n",
    "        return self.x_dict[ID], self.y_dict[ID], i, ID, time() - t0"
   ]
  },
  {
   "cell_type": "markdown",
   "metadata": {},
   "source": [
    "# Play here with the generator/config params\n",
    "\n",
    "The generator should follow the convention over configuration paradigm and provide a standard value for each possible parameter"
   ]
  },
  {
   "cell_type": "code",
   "execution_count": 98,
   "metadata": {},
   "outputs": [
    {
     "name": "stdout",
     "output_type": "stream",
     "text": [
      "Shape of one batch X: 5 * (5, 5), Y: 5 * (10, 10)\n"
     ]
    }
   ],
   "source": [
    "# build your very first generator config\n",
    "cfg = {}\n",
    "cfg['X_DIM'] = 5,5\n",
    "cfg['Y_DIM'] = (10,10)\n",
    "cfg['BATCHSIZE'] = 5\n",
    "cfg['MAX_WORKERS'] = 5\n",
    "\n",
    "\n",
    "# Get your real files by: sorted(glob.glob(path_to_data))\n",
    "# we create two lists of fake files\n",
    "# ################################################\n",
    "files = 10\n",
    "\n",
    "gen = BaseGenerator(x=[1]*files,y=[1]*files, config=cfg)"
   ]
  },
  {
   "cell_type": "markdown",
   "metadata": {},
   "source": [
    "# Yield batches from your own base generator"
   ]
  },
  {
   "cell_type": "code",
   "execution_count": 89,
   "metadata": {
    "collapsed": true,
    "jupyter": {
     "outputs_hidden": true,
     "source_hidden": true
    }
   },
   "outputs": [
    {
     "data": {
      "application/vnd.jupyter.widget-view+json": {
       "model_id": "4e0fdc7e0a5742339b596908a897c0da",
       "version_major": 2,
       "version_minor": 0
      },
      "text/plain": [
       "interactive(children=(IntSlider(value=2, description='i', max=5), Checkbox(value=False, description='epoch_end…"
      ]
     },
     "metadata": {},
     "output_type": "display_data"
    }
   ],
   "source": [
    "@interact\n",
    "def get_batches_from_generator(i=(0,len(gen)), epoch_end=False):\n",
    "    global gen\n",
    "    if epoch_end:gen.on_epoch_end()\n",
    "    x,y = gen[i]\n",
    "    print('x-shape: {}, y-shape: {}'.format(x.shape, y.shape))\n",
    "    print('mean x: {}, mean y: {}'.format(x.mean(), y.mean()))\n",
    "    return x,y"
   ]
  },
  {
   "cell_type": "markdown",
   "metadata": {},
   "source": [
    "# Performance of multi-threaded generators"
   ]
  },
  {
   "cell_type": "code",
   "execution_count": 99,
   "metadata": {},
   "outputs": [
    {
     "name": "stdout",
     "output_type": "stream",
     "text": [
      "2.01 s ± 0 ns per loop (mean ± std. dev. of 1 run, 1 loop each)\n"
     ]
    }
   ],
   "source": [
    "%%timeit -r 1\n",
    "# process all files of the generator\n",
    "_ = [(x,y) for x,y in gen]"
   ]
  },
  {
   "cell_type": "markdown",
   "metadata": {},
   "source": [
    "# Subclassing new generators"
   ]
  },
  {
   "cell_type": "code",
   "execution_count": 100,
   "metadata": {},
   "outputs": [],
   "source": [
    "class DataGenerator(BaseGenerator):\n",
    "    \"\"\"\n",
    "    Yields (X, Y) / image,mask for 2D and 3D U-net training\n",
    "    could be used to yield (X, None)\n",
    "    \"\"\"\n",
    "        \n",
    "    def __preprocess_one_image__(self, i, ID):\n",
    "        delta = 0.1\n",
    "        \n",
    "        # Add here any fancy new \n",
    "        \n",
    "        return self.x_dict[ID]*delta, self.y_dict[ID]*delta, i, ID, time() - t0"
   ]
  },
  {
   "cell_type": "code",
   "execution_count": 101,
   "metadata": {},
   "outputs": [
    {
     "name": "stdout",
     "output_type": "stream",
     "text": [
      "Shape of one batch X: 5 * (5, 5), Y: 5 * (10, 10)\n"
     ]
    }
   ],
   "source": [
    "gen = DataGenerator(x=[1]*files,y=[1]*files, config=cfg)"
   ]
  },
  {
   "cell_type": "code",
   "execution_count": 104,
   "metadata": {
    "collapsed": true,
    "jupyter": {
     "outputs_hidden": true
    }
   },
   "outputs": [
    {
     "data": {
      "text/plain": [
       "(array([[[2.3694278e-38, 2.3694278e-38, 3.6013371e-43, 2.3694278e-38,\n",
       "          2.3694278e-38],\n",
       "         [2.3694278e-38, 2.3694278e-38, 2.3694278e-38, 2.3694278e-38,\n",
       "          2.3694278e-38],\n",
       "         [2.3694278e-38, 2.3694278e-38, 2.3694278e-38, 2.3694278e-38,\n",
       "          2.3694278e-38],\n",
       "         [2.3694278e-38, 2.3694278e-38, 2.3694278e-38, 2.3694278e-38,\n",
       "          2.3694278e-38],\n",
       "         [2.3694278e-38, 2.3694278e-38, 2.3694278e-38, 2.3694278e-38,\n",
       "          2.3694278e-38]],\n",
       " \n",
       "        [[2.3694278e-38, 2.3694278e-38, 2.3694278e-38, 2.3694278e-38,\n",
       "          2.3694278e-38],\n",
       "         [2.3694278e-38, 2.3694278e-38, 2.3694278e-38, 2.3694278e-38,\n",
       "          2.3694278e-38],\n",
       "         [2.3694278e-38, 2.3694278e-38, 2.3694278e-38, 2.3694278e-38,\n",
       "          2.3694278e-38],\n",
       "         [2.3694278e-38, 2.3694278e-38, 2.3694278e-38, 2.3694278e-38,\n",
       "          2.3694278e-38],\n",
       "         [2.3694278e-38, 2.3694278e-38, 2.3694278e-38, 2.3694278e-38,\n",
       "          2.3694278e-38]],\n",
       " \n",
       "        [[2.3694278e-38, 2.3694278e-38, 2.3694278e-38, 2.3694278e-38,\n",
       "          2.3694278e-38],\n",
       "         [2.3694278e-38, 2.3694278e-38, 2.3694278e-38, 2.3694278e-38,\n",
       "          2.3694278e-38],\n",
       "         [2.3694278e-38, 2.3694278e-38, 2.3694278e-38, 2.3694278e-38,\n",
       "          2.3694278e-38],\n",
       "         [2.3694278e-38, 2.3694278e-38, 2.3694278e-38, 2.3694278e-38,\n",
       "          2.3694278e-38],\n",
       "         [2.3694278e-38, 2.3694278e-38, 2.3694278e-38, 2.3694278e-38,\n",
       "          2.3694278e-38]],\n",
       " \n",
       "        [[2.3694278e-38, 2.3694278e-38, 2.3694278e-38, 2.3694278e-38,\n",
       "          2.3694278e-38],\n",
       "         [2.3694278e-38, 2.3694278e-38, 2.3694278e-38, 2.3694278e-38,\n",
       "          2.3694278e-38],\n",
       "         [2.3694278e-38, 2.3694278e-38, 2.3694278e-38, 2.3694278e-38,\n",
       "          2.3694278e-38],\n",
       "         [2.3694278e-38, 2.3694278e-38, 2.3694278e-38, 2.3694278e-38,\n",
       "          2.3694278e-38],\n",
       "         [2.3694278e-38, 2.3694278e-38, 2.3694278e-38, 2.3694278e-38,\n",
       "          2.3694278e-38]],\n",
       " \n",
       "        [[2.3694278e-38, 2.3694278e-38, 2.3694278e-38, 2.3694278e-38,\n",
       "          2.3694278e-38],\n",
       "         [2.3694278e-38, 2.3694278e-38, 2.3694278e-38, 2.3694278e-38,\n",
       "          2.3694278e-38],\n",
       "         [2.3694278e-38, 2.3694278e-38, 2.3694278e-38, 2.3694278e-38,\n",
       "          2.3694278e-38],\n",
       "         [2.3694278e-38, 2.3694278e-38, 2.3694278e-38, 2.3694278e-38,\n",
       "          2.3694278e-38],\n",
       "         [9.2195630e-41, 2.3694278e-38, 2.3694278e-38, 2.3693558e-38,\n",
       "          2.3694278e-38]]], dtype=float32),\n",
       " array([[[2.73588812e-05, 4.58392754e-41, 2.73588812e-05, 4.58392754e-41,\n",
       "          4.69316728e-06, 3.07725143e-41, 4.69316728e-06, 3.07725143e-41,\n",
       "          3.19496050e-43, 0.00000000e+00],\n",
       "         [0.00000000e+00, 0.00000000e+00, 1.35631564e-19, 1.35631564e-19,\n",
       "          6.33752328e-10, 4.24226414e-08, 1.30278427e-11, 1.45852428e-19,\n",
       "          6.55492882e-10, 6.73796630e-10],\n",
       "         [2.52323451e-09, 5.96689461e-07, 6.40997366e-10, 4.39185569e-05,\n",
       "          1.03708304e-08, 4.05010886e-11, 1.06804555e-05, 5.28916791e+22,\n",
       "          2.53226194e-12, 1.35631280e-19],\n",
       "         [1.35631564e-19, 4.02736733e-11, 4.24235616e-08, 5.43650813e+22,\n",
       "          2.63173793e-12, 4.05572109e-08, 2.60787414e-09, 1.30291793e-11,\n",
       "          1.45878897e-19, 1.07207159e-08],\n",
       "         [2.60770361e-09, 2.52323384e-09, 2.38675784e-06, 1.68041064e-04,\n",
       "          1.72499171e-07, 6.44567344e-10, 1.35558927e-19, 1.35631564e-19,\n",
       "          2.38605571e-06, 1.68041064e-04],\n",
       "         [2.62593448e-06, 6.44567344e-10, 4.14105833e-11, 6.73711087e-10,\n",
       "          5.31925556e+22, 7.93498644e+17, 1.35558927e-19, 1.35631564e-19,\n",
       "          8.16306056e-07, 6.63919195e-07],\n",
       "         [6.70115685e-10, 6.44567344e-10, 4.14105833e-11, 2.75952061e-06,\n",
       "          5.31925917e+22, 2.50384023e-12, 1.62247034e-07, 1.73781766e-04,\n",
       "          1.30291750e-11, 1.45849119e-19],\n",
       "         [6.55492882e-10, 1.68026323e-04, 2.52323407e-09, 1.17036751e-19,\n",
       "          1.35631564e-19, 1.35631564e-19, 1.04296811e-08, 6.55592025e-10,\n",
       "          6.30808739e-10, 2.33082020e-09],\n",
       "         [1.72816886e-04, 4.39213691e-05, 1.05009867e-05, 4.14105833e-11,\n",
       "          1.05612471e-05, 5.43731878e+22, 2.60326071e-12, 2.59566150e-06,\n",
       "          6.60209082e-07, 1.30298463e-11],\n",
       "         [8.29131414e-33, 1.35631564e-19, 1.35631564e-19, 1.62228844e-07,\n",
       "          4.24843493e-05, 1.30289581e-11, 1.45872267e-19, 4.24815371e-05,\n",
       "          6.48373355e-10, 6.30808572e-10]],\n",
       " \n",
       "        [[8.29903126e-33, 1.35631564e-19, 1.35631564e-19, 1.03826997e-05,\n",
       "          2.67046198e-06, 1.30287352e-11, 1.45872267e-19, 1.06042979e-08,\n",
       "          6.63933918e-07, 6.30808350e-10],\n",
       "         [2.33082020e-09, 6.75022306e-07, 4.31247891e-08, 1.68969462e-04,\n",
       "          4.02737149e-11, 4.24235616e-08, 5.37782443e+22, 2.63173793e-12,\n",
       "          1.35631280e-19, 1.35631564e-19],\n",
       "         [4.02736733e-11, 4.24235616e-08, 5.37782443e+22, 2.63173793e-12,\n",
       "          1.62247034e-07, 6.55648869e-10, 1.30285140e-11, 1.45849119e-19,\n",
       "          6.55492882e-10, 6.73796630e-10],\n",
       "         [2.52323451e-09, 2.38675784e-06, 6.67557174e-07, 1.66889365e-07,\n",
       "          6.44567344e-10, 1.35558927e-19, 1.35631564e-19, 2.33013253e-09,\n",
       "          2.70008923e-06, 4.29611791e-05],\n",
       "         [1.68969462e-04, 4.14105833e-11, 1.72470038e-07, 5.28939490e+22,\n",
       "          7.93498644e+17, 1.35558927e-19, 1.35631564e-19, 3.26522422e-06,\n",
       "          1.68041064e-04, 2.62593448e-06],\n",
       "         [6.44567344e-10, 4.14105833e-11, 4.21889084e-08, 5.31856471e+22,\n",
       "          2.50384023e-12, 1.01408943e-08, 1.02575592e-08, 1.30287352e-11,\n",
       "          1.45859071e-19, 6.67499137e-07],\n",
       "         [6.60121600e-07, 2.52323451e-09, 1.17036867e-19, 1.35631564e-19,\n",
       "          1.35631564e-19, 6.67499137e-07, 6.60121600e-07, 2.52323451e-09,\n",
       "          1.49172493e-07, 1.64088050e-07],\n",
       "         [1.64106353e-07, 2.57826938e-09, 4.14105833e-11, 2.75952061e-06,\n",
       "          5.37725157e+22, 2.50384023e-12, 1.01402122e-08, 6.60077603e-07,\n",
       "          8.14351624e-13, 8.29093945e-33],\n",
       "         [1.35631564e-19, 1.35631564e-19, 6.48929927e-07, 4.36782720e-05,\n",
       "          1.30285123e-11, 1.45855736e-19, 6.40940856e-10, 6.51968479e-10,\n",
       "          2.52323318e-09, 8.29902612e-33],\n",
       "         [1.35631564e-19, 1.35631564e-19, 1.62247872e-07, 1.73781766e-04,\n",
       "          1.30291750e-11, 1.45849119e-19, 6.48216869e-10, 4.31995722e-05,\n",
       "          9.97652450e-09, 9.32327460e-09]],\n",
       " \n",
       "        [[4.10265599e-08, 4.19606430e-08, 1.03130775e-08, 4.09558359e-11,\n",
       "          2.68501390e-06, 5.20016012e+22, 2.51805109e-12, 1.35631280e-19,\n",
       "          1.35631564e-19, 4.14105417e-11],\n",
       "         [2.75952061e-06, 5.37725157e+22, 2.50384023e-12, 1.01402122e-08,\n",
       "          6.60077603e-07, 8.14351624e-13, 1.45855749e-19, 6.59130639e-10,\n",
       "          1.71564167e-07, 2.52323384e-09],\n",
       "         [1.49172394e-07, 1.64088050e-07, 6.41012021e-10, 2.57826938e-09,\n",
       "          1.35558927e-19, 1.35631564e-19, 2.38605571e-06, 1.68041064e-04,\n",
       "          2.62593448e-06, 6.44567344e-10],\n",
       "         [4.11832096e-11, 2.56387667e-09, 5.43720168e+22, 8.02523298e+17,\n",
       "          1.35558927e-19, 1.35631564e-19, 1.27547821e-08, 4.10265599e-08,\n",
       "          4.19606430e-08, 1.03130775e-08],\n",
       "         [4.02737149e-11, 4.24235616e-08, 5.43650813e+22, 2.63173793e-12,\n",
       "          4.05572109e-08, 2.60787414e-09, 1.30291793e-11, 1.45878897e-19,\n",
       "          1.07207159e-08, 2.60770361e-09],\n",
       "         [2.52323384e-09, 1.17036751e-19, 1.35631564e-19, 1.35631564e-19,\n",
       "          6.55492882e-10, 1.75678069e-04, 2.52323407e-09, 2.38675784e-06,\n",
       "          1.68041064e-04, 2.62593448e-06],\n",
       "         [6.44567344e-10, 4.14105833e-11, 6.73711087e-10, 5.31925556e+22,\n",
       "          2.50384023e-12, 4.15343093e-05, 4.17250661e-08, 1.30278496e-11,\n",
       "          8.29056256e-33, 1.35631564e-19],\n",
       "         [1.35631564e-19, 1.62247034e-07, 4.34454414e-05, 1.30287387e-11,\n",
       "          1.45849119e-19, 6.55492882e-10, 6.73796630e-10, 2.52323451e-09,\n",
       "          8.29902538e-33, 1.35631564e-19],\n",
       "         [1.35631564e-19, 1.62247872e-07, 6.41096953e-10, 1.30287387e-11,\n",
       "          1.45849119e-19, 1.04296811e-08, 6.55592025e-10, 6.30808739e-10,\n",
       "          2.33082020e-09, 1.72816886e-04],\n",
       "         [4.39213691e-05, 1.05009867e-05, 4.14105833e-11, 1.05612471e-05,\n",
       "          5.43731878e+22, 2.60326071e-12, 1.35631280e-19, 1.35631564e-19,\n",
       "          4.02736733e-11, 2.69535638e-09]],\n",
       " \n",
       "        [[5.46648589e+22, 2.56062814e-12, 1.62228844e-07, 4.24843493e-05,\n",
       "          1.30289581e-11, 1.45872267e-19, 4.24815371e-05, 6.48373355e-10,\n",
       "          6.30808572e-10, 2.33081998e-09],\n",
       "         [2.62581625e-06, 1.68766562e-07, 1.05009867e-05, 1.35558927e-19,\n",
       "          1.35631564e-19, 9.32053013e-09, 2.59332067e-09, 2.63675148e-09,\n",
       "          1.68015787e-04, 4.02737149e-11],\n",
       "         [6.75051695e-07, 5.28974438e+22, 8.34031041e+17, 1.35558927e-19,\n",
       "          1.35631564e-19, 3.18869553e-09, 2.70008923e-06, 2.69997395e-06,\n",
       "          1.68969462e-04, 4.02737149e-11],\n",
       "         [4.24235616e-08, 5.37782443e+22, 2.63173793e-12, 6.33706421e-10,\n",
       "          6.62854049e-10, 1.30278505e-11, 1.45875576e-19, 2.71470026e-06,\n",
       "          1.05470033e-08, 6.30808350e-10],\n",
       "         [1.17036867e-19, 1.35631564e-19, 1.35631564e-19, 1.10376213e-05,\n",
       "          2.59326560e-09, 6.30808739e-10, 2.33082020e-09, 2.70008923e-06,\n",
       "          1.72798391e-04, 1.68969462e-04],\n",
       "         [4.09558359e-11, 2.75957859e-06, 5.28974393e+22, 2.57483900e-12,\n",
       "          6.33706421e-10, 2.56433297e-09, 1.30293970e-11, 8.29150222e-33,\n",
       "          1.35631564e-19, 1.35631564e-19],\n",
       "         [2.59566150e-06, 2.74485160e-06, 1.30296269e-11, 1.45872267e-19,\n",
       "          2.71470071e-06, 2.70038277e-06, 2.52323362e-09, 8.29902538e-33,\n",
       "          1.35631564e-19, 1.35631564e-19],\n",
       "         [1.01404920e-08, 1.04312674e-08, 1.30287335e-11, 1.45849119e-19,\n",
       "          1.65012167e-07, 2.66613864e-09, 2.52323495e-09, 2.33081865e-09,\n",
       "          6.67542622e-07, 4.22496232e-05],\n",
       "         [4.19508019e-08, 4.00463412e-11, 6.40969056e-10, 5.20015877e+22,\n",
       "          2.50378429e-12, 1.35631280e-19, 1.35631564e-19, 4.14105417e-11,\n",
       "          1.05465441e-08, 5.46660208e+22],\n",
       "         [2.58904985e-12, 6.33734842e-10, 6.63905155e-07, 1.30287317e-11,\n",
       "          1.45852466e-19, 4.26500222e-08, 1.06643272e-08, 6.30808739e-10,\n",
       "          1.49172436e-07, 4.28892051e-08]],\n",
       " \n",
       "        [[6.82458960e-07, 2.62192512e-09, 1.35558927e-19, 1.35631564e-19,\n",
       "          5.96513928e-07, 1.07421492e-05, 2.62587628e-06, 2.62524668e-06,\n",
       "          4.07284623e-11, 1.06645501e-08],\n",
       "         [5.31833548e+22, 7.98055020e+17, 1.35558927e-19, 1.35631564e-19,\n",
       "          1.27547821e-08, 6.67629934e-07, 4.41579250e-05, 6.56311670e-07,\n",
       "          4.09558359e-11, 1.70917090e-04],\n",
       "         [5.34854067e+22, 2.51821762e-12, 6.33692210e-10, 6.40969056e-10,\n",
       "          8.14240168e-13, 1.45849106e-19, 6.40940634e-10, 6.40969056e-10,\n",
       "          6.23532337e-10, 1.17036751e-19],\n",
       "         [1.35631564e-19, 1.35631564e-19, 1.05460902e-08, 2.66625211e-09,\n",
       "          9.97652183e-09, 1.49172493e-07, 4.28892051e-08, 1.70636540e-07,\n",
       "          2.62192512e-09, 4.05010886e-11],\n",
       "         [1.71848413e-04, 5.34785117e+22, 2.63179300e-12, 6.48959031e-07,\n",
       "          4.36783012e-05, 1.30287369e-11, 8.29075284e-33, 1.35631564e-19,\n",
       "          1.35631564e-19, 6.48929927e-07],\n",
       "         [1.10390120e-05, 8.14309611e-13, 1.45878910e-19, 4.31967928e-05,\n",
       "          1.09801067e-05, 1.61486980e-07, 2.57838917e-42, 0.00000000e+00,\n",
       "          2.46628530e-43, 0.00000000e+00],\n",
       "         [4.69402949e-06, 3.07725143e-41, 1.77964905e-43, 0.00000000e+00,\n",
       "          0.00000000e+00, 0.00000000e+00, 0.00000000e+00, 0.00000000e+00,\n",
       "          0.00000000e+00, 1.35558927e-19],\n",
       "         [7.70524587e+31, 7.21479588e+22, 2.52259068e-18, 2.59298050e-09,\n",
       "          1.01856691e-11, 3.08774539e-09, 2.62599156e-06, 4.18813664e-11,\n",
       "          4.20093711e-05, 2.95700236e-18],\n",
       "         [6.73331199e+22, 1.75905377e+22, 1.71842178e+25, 4.32216629e+27,\n",
       "          6.19715371e-04, 7.24431922e+22, 1.77283446e+28, 7.03667221e+22,\n",
       "          9.44285894e-09, 2.13481030e-07],\n",
       "         [1.29712638e-11, 1.36124891e-05, 4.12584775e-08, 1.10374249e-05,\n",
       "          6.30155095e-10, 5.36014255e-08, 1.07213953e-08, 2.51247943e-18,\n",
       "          7.70520767e+31, 1.94469173e+31]]], dtype=float32))"
      ]
     },
     "execution_count": 104,
     "metadata": {},
     "output_type": "execute_result"
    }
   ],
   "source": [
    "gen[2]"
   ]
  },
  {
   "cell_type": "code",
   "execution_count": null,
   "metadata": {},
   "outputs": [],
   "source": [
    "def __init__(self, **kwargs):\n",
    "        super(self.__class__, self).__init__(**kwargs)\n",
    "        self.name = 'myfirstgenerator'"
   ]
  },
  {
   "cell_type": "code",
   "execution_count": null,
   "metadata": {},
   "outputs": [],
   "source": []
  },
  {
   "cell_type": "code",
   "execution_count": 4,
   "metadata": {},
   "outputs": [],
   "source": [
    "from random import randint\n",
    "# We have a list --> X and a dictionary --> x_dict, \n",
    "# len(X) == len(x_dict)\n",
    "# and X[i] == x_dict[i] for all i in range(len(X))\n",
    "# We create n random indicies within the range of len(X)\n",
    "samples = [randint(0, examples-1) for _ in range(10000000)]"
   ]
  },
  {
   "cell_type": "code",
   "execution_count": 5,
   "metadata": {},
   "outputs": [
    {
     "name": "stdout",
     "output_type": "stream",
     "text": [
      "248 ms ± 2.87 ms per loop (mean ± std. dev. of 7 runs, 1 loop each)\n"
     ]
    }
   ],
   "source": [
    "%%timeit\n",
    "# access the list n times, append the value to a new list\n",
    "temp = None\n",
    "for i in samples:\n",
    "    temp = X[i]\n",
    "    "
   ]
  },
  {
   "cell_type": "code",
   "execution_count": 6,
   "metadata": {},
   "outputs": [
    {
     "name": "stdout",
     "output_type": "stream",
     "text": [
      "398 ms ± 2.14 ms per loop (mean ± std. dev. of 7 runs, 1 loop each)\n"
     ]
    }
   ],
   "source": [
    "%%timeit\n",
    "# access the dict n times, append the value to a new list\n",
    "temp = None\n",
    "for i in samples:\n",
    "    temp = x_dict[i]"
   ]
  },
  {
   "cell_type": "code",
   "execution_count": null,
   "metadata": {},
   "outputs": [],
   "source": []
  },
  {
   "cell_type": "code",
   "execution_count": null,
   "metadata": {},
   "outputs": [],
   "source": []
  }
 ],
 "metadata": {
  "kernelspec": {
   "display_name": "dcmr",
   "language": "python",
   "name": "dcmr"
  },
  "language_info": {
   "codemirror_mode": {
    "name": "ipython",
    "version": 3
   },
   "file_extension": ".py",
   "mimetype": "text/x-python",
   "name": "python",
   "nbconvert_exporter": "python",
   "pygments_lexer": "ipython3",
   "version": "3.8.5"
  },
  "widgets": {
   "application/vnd.jupyter.widget-state+json": {
    "state": {},
    "version_major": 2,
    "version_minor": 0
   }
  }
 },
 "nbformat": 4,
 "nbformat_minor": 4
}
